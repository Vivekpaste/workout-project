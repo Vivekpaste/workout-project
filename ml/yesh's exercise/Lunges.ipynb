{
 "cells": [
  {
   "cell_type": "code",
   "execution_count": null,
   "metadata": {},
   "outputs": [],
   "source": [
    "%pip install opencv-python mediapipe==0.10.7\n",
    "%pip install numpy "
   ]
  },
  {
   "cell_type": "code",
   "execution_count": null,
   "metadata": {},
   "outputs": [],
   "source": [
    "import mediapipe as mp\n",
    "import cv2\n",
    "import numpy as np"
   ]
  },
  {
   "cell_type": "code",
   "execution_count": null,
   "metadata": {},
   "outputs": [],
   "source": [
    "mp_drawing=mp.solutions.drawing_utils\n",
    "mp_pose=mp.solutions.pose"
   ]
  },
  {
   "cell_type": "markdown",
   "metadata": {},
   "source": [
    "testing mediapipe and camera feed\n"
   ]
  },
  {
   "cell_type": "code",
   "execution_count": null,
   "metadata": {},
   "outputs": [],
   "source": [
    "cap = cv2. VideoCapture (0)\n",
    "\n",
    "with mp_pose.Pose(min_detection_confidence=0.5, min_tracking_confidence=0.5) as pose:\n",
    "    while cap.isOpened():\n",
    "        ret, image = cap. read ()\n",
    "        # Recolor Feed\n",
    "        image = cv2. cvtColor (image, cv2. COLOR_BGR2RGB)\n",
    "        image. flags.writeable = False\n",
    "        \n",
    "        results = pose. process (image)\n",
    "        \n",
    "        image.flags. writeable = True\n",
    "        image = cv2. cvtColor (image, cv2. COLOR_RGB2BGR)\n",
    "        mp_drawing.draw_landmarks(image, results.pose_landmarks, mp_pose. POSE_CONNECTIONS\n",
    "                                    , mp_drawing. DrawingSpec(color=(0,255,0), thickness=2, circle_radius=4), \n",
    "                                    mp_drawing. DrawingSpec(color=(0,0,255), thickness=2, circle_radius=2)\n",
    "                                \n",
    "        )\n",
    "        cv2. imshow( 'Raw Webcam Feed', image)\n",
    "        if cv2.waitKey(1) & 0xFF == ord('q'):\n",
    "            break\n",
    "cap.release()\n",
    "cv2.destroyAllWindows()\n",
    "        \n",
    "        \n"
   ]
  },
  {
   "cell_type": "markdown",
   "metadata": {},
   "source": [
    "Creating a video to train model"
   ]
  },
  {
   "cell_type": "code",
   "execution_count": null,
   "metadata": {},
   "outputs": [],
   "source": [
    "cap = cv2. VideoCapture (0)\n",
    "height = cap.get (cv2. CAP_PROP_FRAME_HEIGHT)\n",
    "width = cap. get (cv2.CAP_PROP_FRAME_WIDTH)\n",
    "fps = cap.get (cv2. CAP_PROP_FPS)\n",
    "videoWriter = cv2. VideoWriter('../videos/lunges.avi', cv2.VideoWriter_fourcc('P','I', 'M','1'), fps, (int(width), int(height)))\n",
    "while cap. isOpened():\n",
    "    ret, frame = cap.read()\n",
    "    try:\n",
    "        cv2. imshow( 'Press', frame)\n",
    "        videoWriter.write (frame)\n",
    "    except Exception as e:\n",
    "        break\n",
    "    if cv2.waitKey (1) & 0xFF == ord( 'q'):\n",
    "        break\n",
    "cap.release\n",
    "videoWriter.release ()\n",
    "cv2. destroyAllWindows ( )"
   ]
  },
  {
   "cell_type": "markdown",
   "metadata": {},
   "source": [
    "Testing if the video captured can be detected by mediapipe"
   ]
  },
  {
   "cell_type": "code",
   "execution_count": null,
   "metadata": {},
   "outputs": [],
   "source": [
    "cap = cv2. VideoCapture ('../videos/lunges.avi')\n",
    "with mp_pose. Pose(min_detection_confidence=0.5, min_tracking_confidence=0.5) as pose:\n",
    "    while cap.isOpened():\n",
    "        ret, frame = cap. read ()\n",
    "        if not ret:\n",
    "            break\n",
    "        # Recolor Feed\n",
    "        image = cv2.cvtColor (frame, cv2. COLOR_BGR2RGB)\n",
    "        image.flags.writeable = False\n",
    "        # Make Detections\n",
    "        results = pose.process (image)\n",
    "        # Recolor image back to BGR for rendering\n",
    "        image. flags.writeable= True\n",
    "        image = cv2.cvtColor (image, cv2. COLOR_RGB2BGR)\n",
    "        mp_drawing.draw_landmarks(image, results.pose_landmarks, mp_pose. POSE_CONNECTIONS,\n",
    "                                  mp_drawing.DrawingSpec (color=(0,255,0), thickness=2,circle_radius=4),\n",
    "                                  mp_drawing.DrawingSpec (color=(0,0,255), thickness=2,circle_radius=4)\n",
    "                                \n",
    "                                )\n",
    "        k = cv2. waitKey(1)\n",
    "        cv2. imshow( 'Raw Webcam Feed', image)\n",
    "        if cv2.waitKey(1)& 0xFF == ord('q'):\n",
    "            break\n",
    "cap. release\n",
    "cv2. destroyAllWindows ()"
   ]
  },
  {
   "cell_type": "code",
   "execution_count": null,
   "metadata": {},
   "outputs": [],
   "source": [
    "print(results.pose_landmarks)"
   ]
  },
  {
   "cell_type": "markdown",
   "metadata": {},
   "source": [
    "annotating the dataset"
   ]
  },
  {
   "cell_type": "code",
   "execution_count": null,
   "metadata": {},
   "outputs": [],
   "source": [
    "import csv \n",
    "import os\n",
    "import numpy as np\n",
    "from matplotlib import pyplot as plt"
   ]
  },
  {
   "cell_type": "code",
   "execution_count": null,
   "metadata": {},
   "outputs": [],
   "source": [
    "landmarks = ['class']\n",
    "for val in range(1, 33+1):\n",
    "    landmarks += ['x{}'.format(val), 'y{}'. format(val), 'z{}'. format(val), 'v{}'. format(val)]"
   ]
  },
  {
   "cell_type": "code",
   "execution_count": null,
   "metadata": {},
   "outputs": [],
   "source": [
    "with open('../data/lunges.csv', mode='w', newline='') as f:\n",
    "    csv_writer = csv.writer(f, delimiter=',', quotechar='\"', quoting=csv. QUOTE_MINIMAL)\n",
    "    csv_writer.writerow(landmarks)"
   ]
  },
  {
   "cell_type": "code",
   "execution_count": null,
   "metadata": {},
   "outputs": [],
   "source": [
    "def export_landmark(results, action) :\n",
    "    print(results.pose_landmarks)\n",
    "    try:\n",
    "        keypoints = np.array([[res.x, res.y, res.z, res.visibility] for res in results.pose_landmarks.landmark]).flatten().tolist()\n",
    "        keypoints.insert(0, action)\n",
    "        with open( '../data/lunges.csv', mode='a' , newline='') as f:\n",
    "            csv_writer = csv.writer(f, delimiter=',', quotechar='\"', quoting=csv.QUOTE_MINIMAL)\n",
    "            csv_writer.writerow(keypoints)\n",
    "    except Exception as e:\n",
    "        pass"
   ]
  },
  {
   "cell_type": "markdown",
   "metadata": {},
   "source": [
    "main code for annotation"
   ]
  },
  {
   "cell_type": "code",
   "execution_count": null,
   "metadata": {},
   "outputs": [],
   "source": [
    "cap = cv2. VideoCapture ('../videos/lunges.avi')\n",
    "with mp_pose. Pose(min_detection_confidence=0.5, min_tracking_confidence=0.5) as pose:\n",
    "    while cap.isOpened():\n",
    "        ret, frame = cap. read ()\n",
    "        if not ret:\n",
    "            break\n",
    "        # Recolor Feed\n",
    "        image = cv2.cvtColor (frame, cv2. COLOR_BGR2RGB)\n",
    "        image.flags.writeable = False\n",
    "        # Make Detections\n",
    "        results = pose.process (image)\n",
    "        # Recolor image back to BGR for rendering\n",
    "        image. flags.writeable= True\n",
    "        image = cv2.cvtColor (image, cv2. COLOR_RGB2BGR)\n",
    "        mp_drawing.draw_landmarks(image, results.pose_landmarks, mp_pose. POSE_CONNECTIONS,\n",
    "                                  mp_drawing.DrawingSpec (color=(0,255,0), thickness=2,circle_radius=4),\n",
    "                                  mp_drawing.DrawingSpec (color=(0,0,255), thickness=2,circle_radius=4)\n",
    "                                \n",
    "                                )\n",
    "        k = cv2. waitKey(1)\n",
    "        if k == 117:\n",
    "            export_landmark(results, 'up')\n",
    "        if k == 100:\n",
    "            export_landmark(results, 'down')\n",
    "        cv2. imshow( 'Raw Webcam Feed', image)\n",
    "        if cv2.waitKey(1)& 0xFF == ord('q'):\n",
    "            break\n",
    "cap. release\n",
    "cv2. destroyAllWindows ()"
   ]
  },
  {
   "cell_type": "markdown",
   "metadata": {},
   "source": [
    "Traning custom model\n"
   ]
  },
  {
   "cell_type": "code",
   "execution_count": null,
   "metadata": {},
   "outputs": [],
   "source": [
    "import pandas as pd \n",
    "from sklearn.model_selection import train_test_split"
   ]
  },
  {
   "cell_type": "code",
   "execution_count": null,
   "metadata": {},
   "outputs": [],
   "source": [
    "df=pd.read_csv('../data/lunges.csv')\n"
   ]
  },
  {
   "cell_type": "code",
   "execution_count": null,
   "metadata": {},
   "outputs": [],
   "source": [
    "df.head()"
   ]
  },
  {
   "cell_type": "code",
   "execution_count": null,
   "metadata": {},
   "outputs": [],
   "source": [
    "df.tail()"
   ]
  },
  {
   "cell_type": "code",
   "execution_count": null,
   "metadata": {},
   "outputs": [],
   "source": [
    "df[df['class']=='up']"
   ]
  },
  {
   "cell_type": "code",
   "execution_count": null,
   "metadata": {},
   "outputs": [],
   "source": [
    "X = df.drop( 'class', axis=1) # features\n",
    "y = df['class'] # target value\n"
   ]
  },
  {
   "cell_type": "code",
   "execution_count": null,
   "metadata": {},
   "outputs": [],
   "source": [
    "X_train, X_test, Y_train, y_test = train_test_split(X, y, test_size=0.3, random_state=1234)"
   ]
  },
  {
   "cell_type": "code",
   "execution_count": null,
   "metadata": {},
   "outputs": [],
   "source": [
    "y_test"
   ]
  },
  {
   "cell_type": "markdown",
   "metadata": {},
   "source": [
    "Train Machine Learning Classification Model"
   ]
  },
  {
   "cell_type": "code",
   "execution_count": null,
   "metadata": {},
   "outputs": [],
   "source": [
    "from sklearn.pipeline import make_pipeline \n",
    "from sklearn.preprocessing import StandardScaler\n",
    "\n",
    "from sklearn.linear_model import LogisticRegression, RidgeClassifier \n",
    "from sklearn. ensemble import RandomForestClassifier, GradientBoostingClassifier"
   ]
  },
  {
   "cell_type": "code",
   "execution_count": null,
   "metadata": {},
   "outputs": [],
   "source": [
    "pipelines = {\n",
    "'Ir' :make_pipeline(StandardScaler(), LogisticRegression()),\n",
    "'rc' :make_pipeline (StandardScaler(), RidgeClassifier()),\n",
    "'rf' :make_pipeline(StandardScaler(), RandomForestClassifier()),\n",
    "'gb' :make_pipeline (StandardScaler(), GradientBoostingClassifier()),\n",
    "}"
   ]
  },
  {
   "cell_type": "code",
   "execution_count": null,
   "metadata": {},
   "outputs": [],
   "source": [
    "fit_models = {}\n",
    "for algo, pipeline in pipelines.items():\n",
    "    model = pipeline.fit(X_train, Y_train)\n",
    "    fit_models[algo] = model"
   ]
  },
  {
   "cell_type": "code",
   "execution_count": null,
   "metadata": {},
   "outputs": [],
   "source": [
    "fit_models"
   ]
  },
  {
   "cell_type": "code",
   "execution_count": null,
   "metadata": {},
   "outputs": [],
   "source": [
    "fit_models ['rc'].predict(X_test)"
   ]
  },
  {
   "cell_type": "markdown",
   "metadata": {},
   "source": [
    "serialize using pickel"
   ]
  },
  {
   "cell_type": "code",
   "execution_count": null,
   "metadata": {},
   "outputs": [],
   "source": [
    "from sklearn.metrics import accuracy_score, precision_score, recall_score # Accuracy metrics \n",
    "import pickle"
   ]
  },
  {
   "cell_type": "code",
   "execution_count": null,
   "metadata": {},
   "outputs": [],
   "source": [
    "for algo, model in fit_models. items():\n",
    "    yhat = model. predict(X_test)\n",
    "    print(algo, accuracy_score(y_test.values, yhat),\n",
    "            precision_score(y_test.values,yhat, average=\"binary\", pos_label=\"up\"), \n",
    "            recall_score(y_test.values, yhat, average=\"binary\", pos_label=\"up\"))"
   ]
  },
  {
   "cell_type": "code",
   "execution_count": null,
   "metadata": {},
   "outputs": [],
   "source": [
    "yhat=fit_models['rf'].predict(X_test)"
   ]
  },
  {
   "cell_type": "code",
   "execution_count": null,
   "metadata": {},
   "outputs": [],
   "source": [
    "with open( '../models/lunges.pkl', 'wb') as f:\n",
    "    pickle.dump (fit_models['rf'], f)"
   ]
  },
  {
   "cell_type": "markdown",
   "metadata": {},
   "source": [
    "making predictions"
   ]
  },
  {
   "cell_type": "code",
   "execution_count": null,
   "metadata": {},
   "outputs": [],
   "source": [
    "import mediapipe as mp\n",
    "import cv2\n",
    "import numpy as np\n",
    "import pandas as pd  \n",
    "import pickle\n",
    "\n",
    "mp_drawing=mp.solutions.drawing_utils\n",
    "mp_pose=mp.solutions.pose\n"
   ]
  },
  {
   "cell_type": "code",
   "execution_count": null,
   "metadata": {},
   "outputs": [],
   "source": [
    "with open('../models/lunges.pkl', 'rb') as f:\n",
    "    model=pickle.load(f)"
   ]
  },
  {
   "cell_type": "code",
   "execution_count": null,
   "metadata": {},
   "outputs": [],
   "source": [
    "cap = cv2. VideoCapture (0)\n",
    "counter=0\n",
    "current_stage=''\n",
    "landmarks = ['class']\n",
    "for val in range(1, 33+1):\n",
    "    landmarks += ['x{}'.format(val), 'y{}'. format(val), 'z{}'. format(val),'v{}'.format(val)]\n",
    "\n",
    "with mp_pose.Pose(min_detection_confidence=0.5, min_tracking_confidence=0.5) as pose:\n",
    "    while cap.isOpened():\n",
    "        ret, image = cap. read ()\n",
    "# Recolor Feed\n",
    "        image = cv2.cvtColor (image, cv2.COLOR_BGR2RGB)\n",
    "        image. flags.writeable = False\n",
    "        \n",
    "        results = pose. process (image)\n",
    "        \n",
    "        image.flags. writeable = True\n",
    "        image = cv2.cvtColor (image, cv2.COLOR_RGB2BGR)\n",
    "        \n",
    "        mp_drawing.draw_landmarks(image, results.pose_landmarks, mp_pose. POSE_CONNECTIONS\n",
    "                                    , mp_drawing. DrawingSpec(color=(0,255,0), thickness=2, circle_radius=4), \n",
    "                                    mp_drawing. DrawingSpec(color=(0,0,255), thickness=2, circle_radius=2)\n",
    "                                \n",
    "        )\n",
    "        try:\n",
    "            row = np.array([[res.x, res.y, res.z, res.visibility]for res in results.pose_landmarks.landmark]).flatten().tolist()  # Show the Bounding Box around the Body\n",
    "            X = pd.DataFrame([row], columns=landmarks[1:])\n",
    "            body_language_class = model.predict(X)[0]\n",
    "            body_language_prob = model.predict_proba(X)[0]\n",
    "            \n",
    "            \n",
    "            \n",
    "            if body_language_class == 'down' and body_language_prob[body_language_prob.argmax()]>=0.55: \n",
    "                current_stage = 'down'\n",
    "            elif current_stage =='down' and body_language_class =='up' and body_language_prob[body_language_prob.argmax()]>0.55:\n",
    "                current_stage=\"up\"\n",
    "                counter =counter+1\n",
    "                \n",
    "\n",
    "            cv2. rectangle(image, (0,0), (250, 60), (245, 117, 16), - 1)\n",
    "# Display CLass\n",
    "            cv2. putText (image, 'CLASS',\n",
    "                    (95,12), cv2.FONT_HERSHEY_SIMPLEX, 0.5, (0, 0, 0), 1, cv2.LINE_AA)\n",
    "            cv2.putText(image, body_language_class.split(' ')[0], (85,40), cv2.FONT_HERSHEY_SIMPLEX, 1, (255, 255, 255), 2,cv2.LINE_AA)\n",
    "            \n",
    "            cv2. putText(image, 'PROB',(15,12), cv2.FONT_HERSHEY_SIMPLEX, 0.5, (0, 0, 0), 1, cv2.LINE_AA)\n",
    "            cv2. putText(image, str(round(body_language_prob[np.argmax(body_language_prob)], 2)), (5,40), cv2. FONT_HERSHEY_SIMPLEX, 1, (255, 255, 255), 2, cv2. LINE_AA)\n",
    " \n",
    " \n",
    "            cv2. putText (image, 'COUNT', (198,12), cv2. FONT_HERSHEY_SIMPLEX, 0.5, (0, 0, 0), 1, cv2.LINE_AA)\n",
    "            cv2. putText (image,str(counter), (220,40), cv2. FONT_HERSHEY_SIMPLEX, 1, (255, 255, 255), 2,cv2.LINE_AA)\n",
    "            \n",
    "        \n",
    "        except Exception as e:\n",
    "            print(e)\n",
    "            pass\n",
    "        \n",
    "        \n",
    "        cv2. imshow( 'Raw Webcam Feed', image)\n",
    "        if cv2.waitKey (10) & 0xFF == ord('q'):\n",
    "            break\n",
    "cap. release ( )\n",
    "cv2. destroyAllWindows ()"
   ]
  },
  {
   "cell_type": "code",
   "execution_count": null,
   "metadata": {},
   "outputs": [],
   "source": []
  },
  {
   "cell_type": "code",
   "execution_count": null,
   "metadata": {},
   "outputs": [],
   "source": []
  }
 ],
 "metadata": {
  "kernelspec": {
   "display_name": "yesuiii",
   "language": "python",
   "name": "python3"
  },
  "language_info": {
   "codemirror_mode": {
    "name": "ipython",
    "version": 3
   },
   "file_extension": ".py",
   "mimetype": "text/x-python",
   "name": "python",
   "nbconvert_exporter": "python",
   "pygments_lexer": "ipython3",
   "version": "3.11.2"
  }
 },
 "nbformat": 4,
 "nbformat_minor": 2
}
